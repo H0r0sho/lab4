{
  "nbformat": 4,
  "nbformat_minor": 0,
  "metadata": {
    "colab": {
      "provenance": [],
      "mount_file_id": "1_ILkDAuFYJJDqILZmwsdYhMnOb4Hv4Tl",
      "authorship_tag": "ABX9TyOU8XZdqEdCnP2sgpvoD/ZN",
      "include_colab_link": true
    },
    "kernelspec": {
      "name": "python3",
      "display_name": "Python 3"
    },
    "language_info": {
      "name": "python"
    },
    "accelerator": "GPU",
    "gpuClass": "standard"
  },
  "cells": [
    {
      "cell_type": "markdown",
      "metadata": {
        "id": "view-in-github",
        "colab_type": "text"
      },
      "source": [
        "<a href=\"https://colab.research.google.com/github/H0r0sho/lab4/blob/master/Untitled0.ipynb\" target=\"_parent\"><img src=\"https://colab.research.google.com/assets/colab-badge.svg\" alt=\"Open In Colab\"/></a>"
      ]
    },
    {
      "cell_type": "code",
      "execution_count": 19,
      "metadata": {
        "id": "OvzH9C1IuuUn"
      },
      "outputs": [],
      "source": [
        "import pandas as pd\n",
        "import numpy as np\n",
        "import matplotlib.pyplot as plt\n",
        "import os"
      ]
    },
    {
      "cell_type": "code",
      "source": [
        "def index_change(df: pd.DataFrame) -> pd.DataFrame:\n",
        "    test = df.shape[0]\n",
        "    df.index = [i for i in range(0, int(test))]\n",
        "    return df"
      ],
      "metadata": {
        "id": "jGAdAP9wu59N"
      },
      "execution_count": 20,
      "outputs": []
    },
    {
      "cell_type": "code",
      "source": [
        "path_to_csv: str=os.path.join(\"/content/drive/MyDrive/dataset.csv\")\n",
        "df = pd.read_csv(path_to_csv)\n",
        "print(df)"
      ],
      "metadata": {
        "colab": {
          "base_uri": "https://localhost:8080/"
        },
        "id": "7VtLNsiIvMJF",
        "outputId": "2a76c17e-4f07-46bb-f920-41aa75b7f3b3"
      },
      "execution_count": 21,
      "outputs": [
        {
          "output_type": "stream",
          "name": "stdout",
          "text": [
            "    2022-09-08  61.1814\n",
            "0   2022-09-09  60.8010\n",
            "1   2022-09-10  60.4696\n",
            "2   2022-09-11  60.4590\n",
            "3   2022-09-12  60.4800\n",
            "4   2022-09-13  60.4568\n",
            "5   2022-09-14  60.0676\n",
            "6   2022-09-15  59.7751\n",
            "7   2022-09-16  59.6663\n",
            "8   2022-09-17  60.0316\n",
            "9   2022-09-18  60.0986\n",
            "10  2022-09-19  60.1534\n",
            "11  2022-09-20  60.1662\n",
            "12  2022-09-21  60.0158\n",
            "13  2022-09-22  60.8685\n",
            "14  2022-09-23  59.8318\n",
            "15  2022-09-24  58.1006\n",
            "16  2022-09-25  58.0316\n",
            "17  2022-09-26  58.0159\n",
            "18  2022-09-27  57.9990\n",
            "19  2022-09-28  58.1756\n",
            "20  2022-09-29  58.4485\n",
            "21  2022-09-30  56.7895\n",
            "22  2022-10-01  55.2987\n",
            "23  2022-10-02  55.7483\n",
            "24  2022-10-03  56.5382\n",
            "25  2022-10-04  57.5664\n",
            "26  2022-10-05  58.7913\n",
            "27  2022-10-06  59.4043\n",
            "28  2022-10-07  60.2534\n",
            "29  2022-10-08  61.2475\n",
            "30  2022-10-09  61.4635\n",
            "31  2022-10-10  61.9763\n",
            "32  2022-10-11  62.3126\n",
            "33  2022-10-12  63.6840\n",
            "34  2022-10-13  63.7559\n",
            "35  2022-10-14  63.4917\n",
            "36  2022-10-15  63.0558\n",
            "37  2022-10-16  62.8472\n",
            "38  2022-10-17  62.3549\n",
            "39  2022-10-18  61.7634\n",
            "40  2022-10-19  61.7032\n",
            "41  2022-10-20  61.5905\n",
            "42  2022-10-21  61.5018\n",
            "43  2022-10-22  61.2958\n",
            "44  2022-10-23  62.4624\n",
            "45  2022-10-24  62.3975\n",
            "46  2022-10-25  62.7852\n",
            "47  2022-10-26  63.3240\n",
            "48  2022-10-27  62.9600\n",
            "49  2022-10-28  62.7540\n",
            "50  2022-10-29  63.0940\n",
            "51  2022-10-30  62.9920\n",
            "52  2022-10-31  63.1750\n"
          ]
        }
      ]
    },
    {
      "cell_type": "code",
      "source": [
        "df.columns = ['date', 'value']\n",
        "print(df)\n",
        "nan_value = float(\"NaN\")\n",
        "df.replace(\" \", nan_value, inplace=True)\n",
        "df = df.dropna()"
      ],
      "metadata": {
        "colab": {
          "base_uri": "https://localhost:8080/"
        },
        "id": "8ErRJ0Vsvhla",
        "outputId": "436c0e11-82ea-4bda-da3a-7ccc4b77fcaa"
      },
      "execution_count": 22,
      "outputs": [
        {
          "output_type": "stream",
          "name": "stdout",
          "text": [
            "          date    value\n",
            "0   2022-09-09  60.8010\n",
            "1   2022-09-10  60.4696\n",
            "2   2022-09-11  60.4590\n",
            "3   2022-09-12  60.4800\n",
            "4   2022-09-13  60.4568\n",
            "5   2022-09-14  60.0676\n",
            "6   2022-09-15  59.7751\n",
            "7   2022-09-16  59.6663\n",
            "8   2022-09-17  60.0316\n",
            "9   2022-09-18  60.0986\n",
            "10  2022-09-19  60.1534\n",
            "11  2022-09-20  60.1662\n",
            "12  2022-09-21  60.0158\n",
            "13  2022-09-22  60.8685\n",
            "14  2022-09-23  59.8318\n",
            "15  2022-09-24  58.1006\n",
            "16  2022-09-25  58.0316\n",
            "17  2022-09-26  58.0159\n",
            "18  2022-09-27  57.9990\n",
            "19  2022-09-28  58.1756\n",
            "20  2022-09-29  58.4485\n",
            "21  2022-09-30  56.7895\n",
            "22  2022-10-01  55.2987\n",
            "23  2022-10-02  55.7483\n",
            "24  2022-10-03  56.5382\n",
            "25  2022-10-04  57.5664\n",
            "26  2022-10-05  58.7913\n",
            "27  2022-10-06  59.4043\n",
            "28  2022-10-07  60.2534\n",
            "29  2022-10-08  61.2475\n",
            "30  2022-10-09  61.4635\n",
            "31  2022-10-10  61.9763\n",
            "32  2022-10-11  62.3126\n",
            "33  2022-10-12  63.6840\n",
            "34  2022-10-13  63.7559\n",
            "35  2022-10-14  63.4917\n",
            "36  2022-10-15  63.0558\n",
            "37  2022-10-16  62.8472\n",
            "38  2022-10-17  62.3549\n",
            "39  2022-10-18  61.7634\n",
            "40  2022-10-19  61.7032\n",
            "41  2022-10-20  61.5905\n",
            "42  2022-10-21  61.5018\n",
            "43  2022-10-22  61.2958\n",
            "44  2022-10-23  62.4624\n",
            "45  2022-10-24  62.3975\n",
            "46  2022-10-25  62.7852\n",
            "47  2022-10-26  63.3240\n",
            "48  2022-10-27  62.9600\n",
            "49  2022-10-28  62.7540\n",
            "50  2022-10-29  63.0940\n",
            "51  2022-10-30  62.9920\n",
            "52  2022-10-31  63.1750\n"
          ]
        }
      ]
    },
    {
      "cell_type": "code",
      "source": [
        "df['dev_mean'] = df['value'].mean()-df['value']\n",
        "df['dev_med']=np.median(df[\"value\"])-df['value']\n",
        "print(df)"
      ],
      "metadata": {
        "colab": {
          "base_uri": "https://localhost:8080/"
        },
        "id": "mwtY-n0D06Mt",
        "outputId": "f33a2fae-7b59-4986-c7f7-2bfe9874d630"
      },
      "execution_count": 25,
      "outputs": [
        {
          "output_type": "stream",
          "name": "stdout",
          "text": [
            "          date    value  dev_mean  dev_med\n",
            "0   2022-09-09  60.8010 -0.187966  -0.3210\n",
            "1   2022-09-10  60.4696  0.143434   0.0104\n",
            "2   2022-09-11  60.4590  0.154034   0.0210\n",
            "3   2022-09-12  60.4800  0.133034   0.0000\n",
            "4   2022-09-13  60.4568  0.156234   0.0232\n",
            "5   2022-09-14  60.0676  0.545434   0.4124\n",
            "6   2022-09-15  59.7751  0.837934   0.7049\n",
            "7   2022-09-16  59.6663  0.946734   0.8137\n",
            "8   2022-09-17  60.0316  0.581434   0.4484\n",
            "9   2022-09-18  60.0986  0.514434   0.3814\n",
            "10  2022-09-19  60.1534  0.459634   0.3266\n",
            "11  2022-09-20  60.1662  0.446834   0.3138\n",
            "12  2022-09-21  60.0158  0.597234   0.4642\n",
            "13  2022-09-22  60.8685 -0.255466  -0.3885\n",
            "14  2022-09-23  59.8318  0.781234   0.6482\n",
            "15  2022-09-24  58.1006  2.512434   2.3794\n",
            "16  2022-09-25  58.0316  2.581434   2.4484\n",
            "17  2022-09-26  58.0159  2.597134   2.4641\n",
            "18  2022-09-27  57.9990  2.614034   2.4810\n",
            "19  2022-09-28  58.1756  2.437434   2.3044\n",
            "20  2022-09-29  58.4485  2.164534   2.0315\n",
            "21  2022-09-30  56.7895  3.823534   3.6905\n",
            "22  2022-10-01  55.2987  5.314334   5.1813\n",
            "23  2022-10-02  55.7483  4.864734   4.7317\n",
            "24  2022-10-03  56.5382  4.074834   3.9418\n",
            "25  2022-10-04  57.5664  3.046634   2.9136\n",
            "26  2022-10-05  58.7913  1.821734   1.6887\n",
            "27  2022-10-06  59.4043  1.208734   1.0757\n",
            "28  2022-10-07  60.2534  0.359634   0.2266\n",
            "29  2022-10-08  61.2475 -0.634466  -0.7675\n",
            "30  2022-10-09  61.4635 -0.850466  -0.9835\n",
            "31  2022-10-10  61.9763 -1.363266  -1.4963\n",
            "32  2022-10-11  62.3126 -1.699566  -1.8326\n",
            "33  2022-10-12  63.6840 -3.070966  -3.2040\n",
            "34  2022-10-13  63.7559 -3.142866  -3.2759\n",
            "35  2022-10-14  63.4917 -2.878666  -3.0117\n",
            "36  2022-10-15  63.0558 -2.442766  -2.5758\n",
            "37  2022-10-16  62.8472 -2.234166  -2.3672\n",
            "38  2022-10-17  62.3549 -1.741866  -1.8749\n",
            "39  2022-10-18  61.7634 -1.150366  -1.2834\n",
            "40  2022-10-19  61.7032 -1.090166  -1.2232\n",
            "41  2022-10-20  61.5905 -0.977466  -1.1105\n",
            "42  2022-10-21  61.5018 -0.888766  -1.0218\n",
            "43  2022-10-22  61.2958 -0.682766  -0.8158\n",
            "44  2022-10-23  62.4624 -1.849366  -1.9824\n",
            "45  2022-10-24  62.3975 -1.784466  -1.9175\n",
            "46  2022-10-25  62.7852 -2.172166  -2.3052\n",
            "47  2022-10-26  63.3240 -2.710966  -2.8440\n",
            "48  2022-10-27  62.9600 -2.346966  -2.4800\n",
            "49  2022-10-28  62.7540 -2.140966  -2.2740\n",
            "50  2022-10-29  63.0940 -2.480966  -2.6140\n",
            "51  2022-10-30  62.9920 -2.378966  -2.5120\n",
            "52  2022-10-31  63.1750 -2.561966  -2.6950\n"
          ]
        }
      ]
    },
    {
      "cell_type": "code",
      "source": [
        "\n",
        "stats = df[['dev_mean', 'dev_med']].describe()\n",
        "print(stats)"
      ],
      "metadata": {
        "colab": {
          "base_uri": "https://localhost:8080/"
        },
        "id": "mnNxPLDE18a0",
        "outputId": "0c42e62f-0b5a-4cb9-8603-e134b60992df"
      },
      "execution_count": 26,
      "outputs": [
        {
          "output_type": "stream",
          "name": "stdout",
          "text": [
            "           dev_mean    dev_med\n",
            "count  5.300000e+01  53.000000\n",
            "mean   1.032298e-14  -0.133034\n",
            "std    2.138895e+00   2.138895\n",
            "min   -3.142866e+00  -3.275900\n",
            "25%   -1.784466e+00  -1.917500\n",
            "50%    1.330340e-01   0.000000\n",
            "75%    9.467340e-01   0.813700\n",
            "max    5.314334e+00   5.181300\n"
          ]
        }
      ]
    },
    {
      "cell_type": "code",
      "source": [
        "def ex6(df: pd.DataFrame, value: float) -> pd.DataFrame:\n",
        "    return df.loc[df['dev_mean'] >= value]"
      ],
      "metadata": {
        "id": "EJ2oQQwh2f5e"
      },
      "execution_count": 28,
      "outputs": []
    },
    {
      "cell_type": "code",
      "source": [
        "value = 0.5 # 6\n",
        "df_1 = ex6(df, value)\n",
        "df_1= index_change(df_1)\n",
        "print(df_1)"
      ],
      "metadata": {
        "colab": {
          "base_uri": "https://localhost:8080/"
        },
        "id": "C8YBOljg2f_9",
        "outputId": "91d14fcb-9f03-4644-a150-d2c86bf891de"
      },
      "execution_count": 29,
      "outputs": [
        {
          "output_type": "stream",
          "name": "stdout",
          "text": [
            "          date    value  dev_mean  dev_med\n",
            "0   2022-09-14  60.0676  0.545434   0.4124\n",
            "1   2022-09-15  59.7751  0.837934   0.7049\n",
            "2   2022-09-16  59.6663  0.946734   0.8137\n",
            "3   2022-09-17  60.0316  0.581434   0.4484\n",
            "4   2022-09-18  60.0986  0.514434   0.3814\n",
            "5   2022-09-21  60.0158  0.597234   0.4642\n",
            "6   2022-09-23  59.8318  0.781234   0.6482\n",
            "7   2022-09-24  58.1006  2.512434   2.3794\n",
            "8   2022-09-25  58.0316  2.581434   2.4484\n",
            "9   2022-09-26  58.0159  2.597134   2.4641\n",
            "10  2022-09-27  57.9990  2.614034   2.4810\n",
            "11  2022-09-28  58.1756  2.437434   2.3044\n",
            "12  2022-09-29  58.4485  2.164534   2.0315\n",
            "13  2022-09-30  56.7895  3.823534   3.6905\n",
            "14  2022-10-01  55.2987  5.314334   5.1813\n",
            "15  2022-10-02  55.7483  4.864734   4.7317\n",
            "16  2022-10-03  56.5382  4.074834   3.9418\n",
            "17  2022-10-04  57.5664  3.046634   2.9136\n",
            "18  2022-10-05  58.7913  1.821734   1.6887\n",
            "19  2022-10-06  59.4043  1.208734   1.0757\n"
          ]
        }
      ]
    },
    {
      "cell_type": "code",
      "source": [
        "def ex7(df: pd.DataFrame, data1: str, data2: str) -> pd.DataFrame:\n",
        "    df= df.loc[(df['date'] >= data1) & (df['date'] <= data2)]\n",
        "    return df"
      ],
      "metadata": {
        "id": "CL-Ofd-u2mQL"
      },
      "execution_count": 30,
      "outputs": []
    },
    {
      "cell_type": "code",
      "source": [
        "data1 = \"2022-09-15\"\n",
        "data2 = \"2022-10-05\"\n",
        "df_2 = ex7(df, data1, data2)\n",
        "df_2 = index_change(df_2)\n",
        "print(df_2)"
      ],
      "metadata": {
        "colab": {
          "base_uri": "https://localhost:8080/"
        },
        "id": "UtIwVmv12mWQ",
        "outputId": "ded1bd6a-e9ba-4b7a-dde9-667e143508f8"
      },
      "execution_count": 32,
      "outputs": [
        {
          "output_type": "stream",
          "name": "stdout",
          "text": [
            "          date    value  dev_mean  dev_med\n",
            "0   2022-09-15  59.7751  0.837934   0.7049\n",
            "1   2022-09-16  59.6663  0.946734   0.8137\n",
            "2   2022-09-17  60.0316  0.581434   0.4484\n",
            "3   2022-09-18  60.0986  0.514434   0.3814\n",
            "4   2022-09-19  60.1534  0.459634   0.3266\n",
            "5   2022-09-20  60.1662  0.446834   0.3138\n",
            "6   2022-09-21  60.0158  0.597234   0.4642\n",
            "7   2022-09-22  60.8685 -0.255466  -0.3885\n",
            "8   2022-09-23  59.8318  0.781234   0.6482\n",
            "9   2022-09-24  58.1006  2.512434   2.3794\n",
            "10  2022-09-25  58.0316  2.581434   2.4484\n",
            "11  2022-09-26  58.0159  2.597134   2.4641\n",
            "12  2022-09-27  57.9990  2.614034   2.4810\n",
            "13  2022-09-28  58.1756  2.437434   2.3044\n",
            "14  2022-09-29  58.4485  2.164534   2.0315\n",
            "15  2022-09-30  56.7895  3.823534   3.6905\n",
            "16  2022-10-01  55.2987  5.314334   5.1813\n",
            "17  2022-10-02  55.7483  4.864734   4.7317\n",
            "18  2022-10-03  56.5382  4.074834   3.9418\n",
            "19  2022-10-04  57.5664  3.046634   2.9136\n",
            "20  2022-10-05  58.7913  1.821734   1.6887\n"
          ]
        }
      ]
    },
    {
      "cell_type": "code",
      "source": [
        "def sort_by_month(df: pd.DataFrame, year: int, month: int) -> pd.DataFrame:\n",
        "    if (month < 10): month = \"0\" + str(month)\n",
        "    datemin = str(str(year) + \"-\" + str(month) + \"-\" + \"01\")\n",
        "    datemax = str(str(year) + \"-\" + str(month) + \"-\" + \"31\")\n",
        "    df_sorted = df.loc[(df['date'] >= datemin) & (df['date'] <= datemax)]\n",
        "    df_sorted = index_change(df_sorted)\n",
        "    return(df_sorted)"
      ],
      "metadata": {
        "id": "SPXLbvkC2zVk"
      },
      "execution_count": 33,
      "outputs": []
    },
    {
      "cell_type": "code",
      "source": [
        "month, year = 10, 2022\n",
        "sort_by_month(df, year, month)\n",
        "df_3=sort_by_month(df, year, month)\n",
        "avg=df_3['value'].mean()\n",
        "print(df_3,\"\\n\")\n",
        "print(avg)\n",
        "df = index_change(df)"
      ],
      "metadata": {
        "colab": {
          "base_uri": "https://localhost:8080/"
        },
        "id": "D5F0r6Ya2zcT",
        "outputId": "c6cfc002-63a5-4626-bbf0-0197ac60be11"
      },
      "execution_count": 39,
      "outputs": [
        {
          "output_type": "stream",
          "name": "stdout",
          "text": [
            "          date    value  dev_mean  dev_med\n",
            "0   2022-10-01  55.2987  5.314334   5.1813\n",
            "1   2022-10-02  55.7483  4.864734   4.7317\n",
            "2   2022-10-03  56.5382  4.074834   3.9418\n",
            "3   2022-10-04  57.5664  3.046634   2.9136\n",
            "4   2022-10-05  58.7913  1.821734   1.6887\n",
            "5   2022-10-06  59.4043  1.208734   1.0757\n",
            "6   2022-10-07  60.2534  0.359634   0.2266\n",
            "7   2022-10-08  61.2475 -0.634466  -0.7675\n",
            "8   2022-10-09  61.4635 -0.850466  -0.9835\n",
            "9   2022-10-10  61.9763 -1.363266  -1.4963\n",
            "10  2022-10-11  62.3126 -1.699566  -1.8326\n",
            "11  2022-10-12  63.6840 -3.070966  -3.2040\n",
            "12  2022-10-13  63.7559 -3.142866  -3.2759\n",
            "13  2022-10-14  63.4917 -2.878666  -3.0117\n",
            "14  2022-10-15  63.0558 -2.442766  -2.5758\n",
            "15  2022-10-16  62.8472 -2.234166  -2.3672\n",
            "16  2022-10-17  62.3549 -1.741866  -1.8749\n",
            "17  2022-10-18  61.7634 -1.150366  -1.2834\n",
            "18  2022-10-19  61.7032 -1.090166  -1.2232\n",
            "19  2022-10-20  61.5905 -0.977466  -1.1105\n",
            "20  2022-10-21  61.5018 -0.888766  -1.0218\n",
            "21  2022-10-22  61.2958 -0.682766  -0.8158\n",
            "22  2022-10-23  62.4624 -1.849366  -1.9824\n",
            "23  2022-10-24  62.3975 -1.784466  -1.9175\n",
            "24  2022-10-25  62.7852 -2.172166  -2.3052\n",
            "25  2022-10-26  63.3240 -2.710966  -2.8440\n",
            "26  2022-10-27  62.9600 -2.346966  -2.4800\n",
            "27  2022-10-28  62.7540 -2.140966  -2.2740\n",
            "28  2022-10-29  63.0940 -2.480966  -2.6140\n",
            "29  2022-10-30  62.9920 -2.378966  -2.5120\n",
            "30  2022-10-31  63.1750 -2.561966  -2.6950 \n",
            "\n",
            "61.406090322580646\n"
          ]
        }
      ]
    },
    {
      "cell_type": "code",
      "source": [
        "def ex10(df: pd.DataFrame, year: int, month: int) -> pd.DataFrame:\n",
        "    if (month < 10): month = \"0\" + str(month)\n",
        "    datemin = str(str(year) + \"-\" + str(month) + \"-\" + \"01\")\n",
        "    datemax = str(str(year) + \"-\" + str(month) + \"-\" + \"31\")\n",
        "    df_sorted = df.loc[(df['date'] >= datemin) & (df['date'] <= datemax)]\n",
        "    df_sorted = index_change(df_sorted)\n",
        "\n",
        "    fig = plt.figure(figsize=(10, 5))\n",
        "    plt.title(\"Value by month\")\n",
        "    plt.xlabel(\"Day\")\n",
        "    plt.ylabel(\"Value\")\n",
        "    plt.plot(df_sorted['value'], color=\"#ffa4fa\", linestyle=\"--\", marker=\"x\", linewidth=1, markersize=6)\n",
        "    plt.axhline(y=(df_sorted[\"value\"]).mean(), color=\"#fe0df3\", linewidth=1)\n",
        "    plt.axhline(y=np.median(df_sorted[\"value\"]), color=\"#592056\", linestyle=\"-\", linewidth=1)\n",
        "    plt.legend([\"Value in current day\", \"average\", \"median\"])\n",
        "    plt.show()"
      ],
      "metadata": {
        "id": "MT78i30j3ZVD"
      },
      "execution_count": 40,
      "outputs": []
    },
    {
      "cell_type": "code",
      "source": [
        "ex10(df, year, month)"
      ],
      "metadata": {
        "colab": {
          "base_uri": "https://localhost:8080/",
          "height": 350
        },
        "id": "H7cxoPgS36lD",
        "outputId": "00543646-b89d-43ad-be9c-8869198ef3be"
      },
      "execution_count": 44,
      "outputs": [
        {
          "output_type": "display_data",
          "data": {
            "text/plain": [
              "<Figure size 720x360 with 1 Axes>"
            ],
            "image/png": "[encoded data removed]"
          },
          "metadata": {
            "needs_background": "light"
          }
        }
      ]
    },
    {
      "cell_type": "code",
      "source": [
        "fig = plt.figure(figsize=(10, 5))\n",
        "ax = fig.add_subplot(211)\n",
        "ax.plot(df['value'], color=\"#fe0df3\")\n",
        "plt.legend([\"Value in current day\"])\n",
        "plt.xlabel(\"Day\")\n",
        "plt.ylabel(\"Value\")\n",
        "plt.show()"
      ],
      "metadata": {
        "colab": {
          "base_uri": "https://localhost:8080/",
          "height": 187
        },
        "id": "gueR-kw83-Pq",
        "outputId": "008c5b2a-aaec-4994-b015-b2334d27bc72"
      },
      "execution_count": 47,
      "outputs": [
        {
          "output_type": "display_data",
          "data": {
            "text/plain": [
              "<Figure size 720x360 with 1 Axes>"
            ],
            "image/png": "[encoded data removed]"
          },
          "metadata": {
            "needs_background": "light"
          }
        }
      ]
    },
    {
      "cell_type": "markdown",
      "source": [
        "# Новый раздел"
      ],
      "metadata": {
        "id": "ycF5694F4bnJ"
      }
    }
  ]
}